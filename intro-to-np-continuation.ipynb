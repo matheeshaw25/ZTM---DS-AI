{
 "cells": [
  {
   "cell_type": "code",
   "execution_count": 1,
   "id": "46c2dbb4-825e-4703-87de-07897edb24bb",
   "metadata": {},
   "outputs": [],
   "source": [
    "import numpy as np"
   ]
  },
  {
   "cell_type": "markdown",
   "id": "74ba05bd-7b7d-4816-b3df-8539da17d23c",
   "metadata": {},
   "source": [
    "## 1D"
   ]
  },
  {
   "cell_type": "code",
   "execution_count": 2,
   "id": "44f93691-35dc-4711-abf4-5daa0abfcbc4",
   "metadata": {},
   "outputs": [],
   "source": [
    "NP1 = np.array([1,2,3,4,5,6])"
   ]
  },
  {
   "cell_type": "code",
   "execution_count": 3,
   "id": "ce5e42e8-b8ce-4c40-9d49-55f5806289a1",
   "metadata": {},
   "outputs": [
    {
     "data": {
      "text/plain": [
       "numpy.ndarray"
      ]
     },
     "execution_count": 3,
     "metadata": {},
     "output_type": "execute_result"
    }
   ],
   "source": [
    "type(NP1)"
   ]
  },
  {
   "cell_type": "markdown",
   "id": "2429ad20-7552-486e-999c-635ed909a32e",
   "metadata": {},
   "source": [
    "## 2D"
   ]
  },
  {
   "cell_type": "code",
   "execution_count": 4,
   "id": "94dcaa18-c320-4eaf-86cf-14b60015d171",
   "metadata": {},
   "outputs": [],
   "source": [
    "NP2 = np.array([[1,2,3],[4,5,6]])"
   ]
  },
  {
   "cell_type": "code",
   "execution_count": 5,
   "id": "e4e3f920-bf66-4ae8-9630-0b6e386623ea",
   "metadata": {},
   "outputs": [
    {
     "data": {
      "text/plain": [
       "array([[1, 2, 3],\n",
       "       [4, 5, 6]])"
      ]
     },
     "execution_count": 5,
     "metadata": {},
     "output_type": "execute_result"
    }
   ],
   "source": [
    "NP2"
   ]
  },
  {
   "cell_type": "code",
   "execution_count": 6,
   "id": "dcf83f24-1187-4e01-adcd-4159c9e7805f",
   "metadata": {},
   "outputs": [
    {
     "data": {
      "text/plain": [
       "numpy.ndarray"
      ]
     },
     "execution_count": 6,
     "metadata": {},
     "output_type": "execute_result"
    }
   ],
   "source": [
    "type(NP2)"
   ]
  },
  {
   "cell_type": "code",
   "execution_count": 8,
   "id": "4cb0be11-cd2d-4c6a-a88a-bf055da50e83",
   "metadata": {},
   "outputs": [
    {
     "data": {
      "text/plain": [
       "(2, 3)"
      ]
     },
     "execution_count": 8,
     "metadata": {},
     "output_type": "execute_result"
    }
   ],
   "source": [
    "# has 2 rows and 3 columns (2,3)\n",
    "NP2.shape"
   ]
  },
  {
   "cell_type": "code",
   "execution_count": 10,
   "id": "22619d47-f5f9-4f67-8b41-b999d99fe178",
   "metadata": {},
   "outputs": [
    {
     "data": {
      "text/plain": [
       "6"
      ]
     },
     "execution_count": 10,
     "metadata": {},
     "output_type": "execute_result"
    }
   ],
   "source": [
    "# multiply 2 x 3\n",
    "NP2.size"
   ]
  },
  {
   "cell_type": "markdown",
   "id": "923ca5ed-c522-40dc-8f5f-0f9643b57045",
   "metadata": {},
   "source": [
    "To check the dimension of an array"
   ]
  },
  {
   "cell_type": "code",
   "execution_count": 13,
   "id": "281727da-b306-4ba9-8ef6-dfeb14ccca70",
   "metadata": {},
   "outputs": [
    {
     "data": {
      "text/plain": [
       "2"
      ]
     },
     "execution_count": 13,
     "metadata": {},
     "output_type": "execute_result"
    }
   ],
   "source": [
    "NP2.ndim\n"
   ]
  },
  {
   "cell_type": "code",
   "execution_count": 14,
   "id": "88cd00fc-a95e-4f65-92a7-b89f61e4b2b7",
   "metadata": {},
   "outputs": [
    {
     "data": {
      "text/plain": [
       "1"
      ]
     },
     "execution_count": 14,
     "metadata": {},
     "output_type": "execute_result"
    }
   ],
   "source": [
    "NP1.ndim"
   ]
  },
  {
   "cell_type": "markdown",
   "id": "58a36b1b-b30d-44a4-b3a3-b0465e4994e9",
   "metadata": {},
   "source": [
    "Checks index "
   ]
  },
  {
   "cell_type": "code",
   "execution_count": 16,
   "id": "27a80d28-a778-4e98-9bd9-7bbbfef381bf",
   "metadata": {},
   "outputs": [
    {
     "data": {
      "text/plain": [
       "1"
      ]
     },
     "execution_count": 16,
     "metadata": {},
     "output_type": "execute_result"
    }
   ],
   "source": [
    "# first element\n",
    "NP1[0]"
   ]
  },
  {
   "cell_type": "code",
   "execution_count": 17,
   "id": "df5150e8-c3eb-46cd-ae1c-2299bcb9041c",
   "metadata": {},
   "outputs": [
    {
     "data": {
      "text/plain": [
       "3"
      ]
     },
     "execution_count": 17,
     "metadata": {},
     "output_type": "execute_result"
    }
   ],
   "source": [
    "#third element\n",
    "NP1[2]"
   ]
  },
  {
   "cell_type": "markdown",
   "id": "5393055e-e2de-42fa-83f0-eed79bbd9fbe",
   "metadata": {},
   "source": [
    "Filtering out 1D arrays"
   ]
  },
  {
   "cell_type": "code",
   "execution_count": 19,
   "id": "dc1300f9-cc78-4d05-a76b-eb3ecee80754",
   "metadata": {},
   "outputs": [
    {
     "data": {
      "text/plain": [
       "array([4, 5])"
      ]
     },
     "execution_count": 19,
     "metadata": {},
     "output_type": "execute_result"
    }
   ],
   "source": [
    "NP1[3:5]"
   ]
  },
  {
   "cell_type": "code",
   "execution_count": 20,
   "id": "65660c88-9ab3-4ec4-bbc7-34775ad09f3e",
   "metadata": {},
   "outputs": [
    {
     "data": {
      "text/plain": [
       "array([[1, 2, 3],\n",
       "       [4, 5, 6]])"
      ]
     },
     "execution_count": 20,
     "metadata": {},
     "output_type": "execute_result"
    }
   ],
   "source": [
    "NP2"
   ]
  },
  {
   "cell_type": "markdown",
   "id": "498f9e20-5748-4730-bad2-68f301358cc2",
   "metadata": {},
   "source": [
    "2D array\n",
    "[ROW , COLUMN]"
   ]
  },
  {
   "cell_type": "markdown",
   "id": "33ef302f-5388-4a2c-8ae1-5c6be04d6fb6",
   "metadata": {},
   "source": [
    "First element of 2D array is the whole row\n",
    "NP2[0] = [1,2,3]"
   ]
  },
  {
   "cell_type": "code",
   "execution_count": 24,
   "id": "e1e616e9-d5d0-43fb-9121-06903ea79126",
   "metadata": {},
   "outputs": [
    {
     "data": {
      "text/plain": [
       "3"
      ]
     },
     "execution_count": 24,
     "metadata": {},
     "output_type": "execute_result"
    }
   ],
   "source": [
    "NP2[0,2]"
   ]
  },
  {
   "cell_type": "markdown",
   "id": "b03bdabd-5dec-488a-9893-68bb8556358d",
   "metadata": {},
   "source": [
    "Get the value of the first column"
   ]
  },
  {
   "cell_type": "code",
   "execution_count": 25,
   "id": "3723d5de-c6d4-41ec-82d6-c3da2f2f6b86",
   "metadata": {},
   "outputs": [
    {
     "data": {
      "text/plain": [
       "array([1, 4])"
      ]
     },
     "execution_count": 25,
     "metadata": {},
     "output_type": "execute_result"
    }
   ],
   "source": [
    "NP2[:,0]"
   ]
  },
  {
   "cell_type": "code",
   "execution_count": 27,
   "id": "f1cb0b61-c9fb-4af7-848b-a472abd4ee4b",
   "metadata": {},
   "outputs": [
    {
     "data": {
      "text/plain": [
       "array([1, 2, 3])"
      ]
     },
     "execution_count": 27,
     "metadata": {},
     "output_type": "execute_result"
    }
   ],
   "source": [
    "# Even NP2[0] would give you the first row\n",
    "NP2[0,:]"
   ]
  },
  {
   "cell_type": "code",
   "execution_count": 28,
   "id": "42b86ef1-c13a-44f2-88bf-738df0e700a0",
   "metadata": {},
   "outputs": [
    {
     "data": {
      "text/plain": [
       "5"
      ]
     },
     "execution_count": 28,
     "metadata": {},
     "output_type": "execute_result"
    }
   ],
   "source": [
    "# Second row , second column\n",
    "NP2[1,1]"
   ]
  },
  {
   "cell_type": "code",
   "execution_count": 30,
   "id": "4eb98d54-2d7c-4d0e-b8b3-b653abe1fcec",
   "metadata": {},
   "outputs": [
    {
     "data": {
      "text/plain": [
       "array([[1, 2, 3],\n",
       "       [4, 5, 6]])"
      ]
     },
     "execution_count": 30,
     "metadata": {},
     "output_type": "execute_result"
    }
   ],
   "source": [
    "# Even just NP2 would give the same output\n",
    "NP2[:,:]"
   ]
  },
  {
   "cell_type": "code",
   "execution_count": 31,
   "id": "53b2eaae-c327-4cd5-9bd4-f4f3ffddbe50",
   "metadata": {},
   "outputs": [
    {
     "data": {
      "text/plain": [
       "array([[2, 3],\n",
       "       [5, 6]])"
      ]
     },
     "execution_count": 31,
     "metadata": {},
     "output_type": "execute_result"
    }
   ],
   "source": [
    "# First , second rows and skip first column and get second and third columns\n",
    "NP2[:,1:3]"
   ]
  },
  {
   "cell_type": "code",
   "execution_count": 33,
   "id": "1c27e3ef-14fc-4d2d-9390-a04937eb1577",
   "metadata": {},
   "outputs": [
    {
     "name": "stdout",
     "output_type": "stream",
     "text": [
      "[[1 2]\n",
      " [3 4]]\n",
      "[[5 6]\n",
      " [7 8]]\n"
     ]
    }
   ],
   "source": [
    " NP3 = np.array([[1,2],[3,4]])\n",
    " NP4 = np.array([[5,6],[7,8]])\n",
    "print(NP3)\n",
    "print(NP4)"
   ]
  },
  {
   "cell_type": "code",
   "execution_count": 35,
   "id": "4e93e4b6-726a-4ece-862c-b27964a0df66",
   "metadata": {},
   "outputs": [
    {
     "data": {
      "text/plain": [
       "array([[ 6,  8],\n",
       "       [10, 12]])"
      ]
     },
     "execution_count": 35,
     "metadata": {},
     "output_type": "execute_result"
    }
   ],
   "source": [
    "# Addition will be done element wise\n",
    "NP3+NP4"
   ]
  },
  {
   "cell_type": "code",
   "execution_count": 36,
   "id": "a84cbc02-ff47-4ce4-b178-05c72b59c186",
   "metadata": {},
   "outputs": [
    {
     "data": {
      "text/plain": [
       "array([[-4, -4],\n",
       "       [-4, -4]])"
      ]
     },
     "execution_count": 36,
     "metadata": {},
     "output_type": "execute_result"
    }
   ],
   "source": [
    "NP3 - NP4"
   ]
  },
  {
   "cell_type": "code",
   "execution_count": 37,
   "id": "8babeb0d-4de4-4f3f-9068-e241bd7040c1",
   "metadata": {},
   "outputs": [
    {
     "data": {
      "text/plain": [
       "array([[0.2       , 0.33333333],\n",
       "       [0.42857143, 0.5       ]])"
      ]
     },
     "execution_count": 37,
     "metadata": {},
     "output_type": "execute_result"
    }
   ],
   "source": [
    "NP3/NP4"
   ]
  },
  {
   "cell_type": "code",
   "execution_count": 39,
   "id": "d46dd2a8-9702-48ca-b9c3-2ba8616a285e",
   "metadata": {},
   "outputs": [
    {
     "data": {
      "text/plain": [
       "array([[ 5, 12],\n",
       "       [21, 32]])"
      ]
     },
     "execution_count": 39,
     "metadata": {},
     "output_type": "execute_result"
    }
   ],
   "source": [
    "NP3*NP4"
   ]
  },
  {
   "cell_type": "code",
   "execution_count": 40,
   "id": "56bb6b6f-050d-4b54-960e-66145a304887",
   "metadata": {},
   "outputs": [
    {
     "data": {
      "text/plain": [
       "array([[19, 22],\n",
       "       [43, 50]])"
      ]
     },
     "execution_count": 40,
     "metadata": {},
     "output_type": "execute_result"
    }
   ],
   "source": [
    "#matrix multiplication format\n",
    "NP3@NP4"
   ]
  },
  {
   "cell_type": "code",
   "execution_count": null,
   "id": "8ea5687c-b5f9-452e-907e-dbeeaa259320",
   "metadata": {},
   "outputs": [],
   "source": []
  }
 ],
 "metadata": {
  "kernelspec": {
   "display_name": "Python 3 (ipykernel)",
   "language": "python",
   "name": "python3"
  },
  "language_info": {
   "codemirror_mode": {
    "name": "ipython",
    "version": 3
   },
   "file_extension": ".py",
   "mimetype": "text/x-python",
   "name": "python",
   "nbconvert_exporter": "python",
   "pygments_lexer": "ipython3",
   "version": "3.12.5"
  }
 },
 "nbformat": 4,
 "nbformat_minor": 5
}
